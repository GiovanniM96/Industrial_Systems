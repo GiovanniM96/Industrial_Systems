{
 "cells": [
  {
   "cell_type": "markdown",
   "id": "100c1457-52c7-49d4-aa59-b65c3d682d5c",
   "metadata": {},
   "source": [
    "# Auto Explorative Analysis - HTML Report"
   ]
  },
  {
   "cell_type": "code",
   "execution_count": 32,
   "id": "ff49ea7e-01b4-4103-b4fc-e30146dd12af",
   "metadata": {},
   "outputs": [
    {
     "data": {
      "application/vnd.jupyter.widget-view+json": {
       "model_id": "25bc9091851a472caaf3e05e92fa879d",
       "version_major": 2,
       "version_minor": 0
      },
      "text/plain": [
       "Summarize dataset:   0%|          | 0/5 [00:00<?, ?it/s]"
      ]
     },
     "metadata": {},
     "output_type": "display_data"
    },
    {
     "data": {
      "application/vnd.jupyter.widget-view+json": {
       "model_id": "d59ab7fca9a44a0083d0f7d956db35f4",
       "version_major": 2,
       "version_minor": 0
      },
      "text/plain": [
       "Generate report structure:   0%|          | 0/1 [00:00<?, ?it/s]"
      ]
     },
     "metadata": {},
     "output_type": "display_data"
    },
    {
     "data": {
      "application/vnd.jupyter.widget-view+json": {
       "model_id": "b8d47e8e992a4a2e92d95b18cbb09ec3",
       "version_major": 2,
       "version_minor": 0
      },
      "text/plain": [
       "Render HTML:   0%|          | 0/1 [00:00<?, ?it/s]"
      ]
     },
     "metadata": {},
     "output_type": "display_data"
    },
    {
     "data": {
      "application/vnd.jupyter.widget-view+json": {
       "model_id": "b3d75b97d5284778826a3508f315d531",
       "version_major": 2,
       "version_minor": 0
      },
      "text/plain": [
       "Export report to file:   0%|          | 0/1 [00:00<?, ?it/s]"
      ]
     },
     "metadata": {},
     "output_type": "display_data"
    }
   ],
   "source": [
    "import pandas as pd\n",
    "import pandas_profiling\n",
    "\n",
    "# Leggi il file di dati in un DataFrame di pandas\n",
    "#df = pd.read_csv(\"file.csv\")\n",
    "\n",
    "# leggi il file excel\n",
    "df = pd.read_excel(\"MATRICE DEI FLUSSI CARRELLI ELEVATORI.xlsx\")\n",
    "\n",
    "# Crea il report\n",
    "#report = pandas_profiling.ProfileReport(df)\n",
    "\n",
    "# crea il report pandas\n",
    "report = pandas_profiling.ProfileReport(df.head(22))\n",
    "\n",
    "# esporta il report come file HTML\n",
    "report.to_file(\"table.html\")\n"
   ]
  },
  {
   "cell_type": "code",
   "execution_count": null,
   "id": "09d6dce5-86c5-4860-8846-bc696ac53f8f",
   "metadata": {},
   "outputs": [],
   "source": []
  }
 ],
 "metadata": {
  "kernelspec": {
   "display_name": "Python 3 (ipykernel)",
   "language": "python",
   "name": "python3"
  },
  "language_info": {
   "codemirror_mode": {
    "name": "ipython",
    "version": 3
   },
   "file_extension": ".py",
   "mimetype": "text/x-python",
   "name": "python",
   "nbconvert_exporter": "python",
   "pygments_lexer": "ipython3",
   "version": "3.9.7"
  }
 },
 "nbformat": 4,
 "nbformat_minor": 5
}
